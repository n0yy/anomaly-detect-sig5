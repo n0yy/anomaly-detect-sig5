{
  "cells": [
    {
      "cell_type": "code",
      "execution_count": null,
      "metadata": {
        "id": "l_eBvd5w3tj5"
      },
      "outputs": [],
      "source": [
        "import pandas as pd\n",
        "import numpy as np\n",
        "import matplotlib.pyplot as plt\n",
        "import seaborn as sns\n",
        "from sklearn.preprocessing import MinMaxScaler\n",
        "from sklearn.model_selection import train_test_split\n",
        "\n",
        "import tensorflow as tf\n",
        "from tensorflow.keras.models import Model\n",
        "from tensorflow.keras.layers import Dense, Input\n",
        "from tensorflow.keras.callbacks import EarlyStopping\n",
        "\n",
        "plt.rcParams['figure.figsize'] = (16, 8)"
      ]
    },
    {
      "cell_type": "markdown",
      "metadata": {
        "id": "vDzV7ZMC67dM"
      },
      "source": [
        "# Load Data"
      ]
    },
    {
      "cell_type": "code",
      "execution_count": null,
      "metadata": {
        "colab": {
          "base_uri": "https://localhost:8080/",
          "height": 446
        },
        "id": "NUu3G_RI3ekC",
        "outputId": "fe589cbd-7563-428b-a31c-b44191145c75"
      },
      "outputs": [],
      "source": [
        "df = pd.read_csv('/content/tb_sig_5.csv')\n",
        "df['timestamp'] = df['created_date'] + \" \" + df[\"created_time\"]\n",
        "df.drop(columns=[\"created_date\", \"created_time\"], inplace=True)\n",
        "print(f\"Bentuk data: {df.shape}\")\n",
        "df.head()"
      ]
    },
    {
      "cell_type": "code",
      "execution_count": null,
      "metadata": {
        "colab": {
          "base_uri": "https://localhost:8080/",
          "height": 349
        },
        "id": "-rBTEjkp6_KD",
        "outputId": "90b83bc1-0159-4014-ff48-4f2183137c48"
      },
      "outputs": [],
      "source": [
        "df.describe()"
      ]
    },
    {
      "cell_type": "markdown",
      "metadata": {
        "id": "dbvOywnH-1IW"
      },
      "source": [
        "# Visualization"
      ]
    },
    {
      "cell_type": "markdown",
      "metadata": {
        "id": "vteUn36tC_Ej"
      },
      "source": [
        "## Set Poin vs Actual"
      ]
    },
    {
      "cell_type": "markdown",
      "metadata": {
        "id": "szmyf22UDAJB"
      },
      "source": [
        "### Dosing"
      ]
    },
    {
      "cell_type": "code",
      "execution_count": null,
      "metadata": {
        "colab": {
          "base_uri": "https://localhost:8080/",
          "height": 1000
        },
        "id": "ZcJ3Mx-w_Av-",
        "outputId": "df69b2f9-84f7-4ce2-e732-66fb20020bc8"
      },
      "outputs": [],
      "source": [
        "dosing_1 = [\"sp_dosing_1\", \"actual_dosing_1\"]\n",
        "dosing_2 = [\"sp_dosing_2\", \"actual_dosing_2\"]\n",
        "dosing_3 = [\"sp_dosing_3\", \"actual_dosing_3\"]\n",
        "dosing_4 = [\"sp_dosing_4\", \"actual_dosing_4\"]\n",
        "dosing_5 = [\"sp_dosing_5\", \"actual_dosing_5\"]\n",
        "dosing_6 = [\"sp_dosing_6\", \"actual_dosing_6\"]\n",
        "dosing_7 = [\"sp_dosing_7\", \"actual_dosing_7\"]\n",
        "dosing_8 = [\"sp_dosing_8\", \"actual_dosing_8\"]\n",
        "\n",
        "for col in [dosing_1, dosing_2, dosing_3, dosing_4, dosing_5, dosing_6, dosing_7, dosing_8]:\n",
        "    plt.figure(figsize=(14, 6))\n",
        "    sns.lineplot(data=df, x=\"timestamp\", y=col[0], label=col[0])\n",
        "    sns.lineplot(data=df, x=\"timestamp\", y=col[1], label=col[1])\n",
        "    plt.legend()"
      ]
    },
    {
      "cell_type": "markdown",
      "metadata": {
        "id": "sGq5N3QzDEv9"
      },
      "source": [
        "### Heater"
      ]
    },
    {
      "cell_type": "code",
      "execution_count": null,
      "metadata": {
        "colab": {
          "base_uri": "https://localhost:8080/",
          "height": 1000
        },
        "id": "0B-iwRmPDIzV",
        "outputId": "78d40b88-3516-4954-8abb-88dc9e6bbddf"
      },
      "outputs": [],
      "source": [
        "heater = ['sp_heater_ctr_cross_left', 'sp_heater_ctr_cross_right', 'sp_heater_ctr_long_left', 'sp_heater_ctr_long_right']\n",
        "for col in heater:\n",
        "    plt.figure(figsize=(14, 6))\n",
        "    sns.lineplot(data=df, x=\"timestamp\", y=col, label=col)\n",
        "    plt.legend()"
      ]
    },
    {
      "cell_type": "markdown",
      "metadata": {
        "id": "GXk4yDn7AXQr"
      },
      "source": [
        "# Preprocessing Data"
      ]
    },
    {
      "cell_type": "code",
      "execution_count": null,
      "metadata": {
        "id": "5JkcOKtVAWBo"
      },
      "outputs": [],
      "source": [
        "def convert_to_numeric(df):\n",
        "    for col in df.columns:\n",
        "        if df[col].dtype == 'object':\n",
        "            try:\n",
        "                df[col] = pd.to_datetime(df[col])\n",
        "                # Konversi datetime ke timestamp (float)\n",
        "                df[col] = df[col].apply(lambda x: x.timestamp())\n",
        "            except Exception as e:\n",
        "                try:\n",
        "                    df[col] = pd.to_numeric(df[col])\n",
        "                except Exception as e:\n",
        "                    print(f\"Dropping column '{col}' karena tidak bisa dikonversi ke numeric.\")\n",
        "                    df.drop(col, axis=1, inplace=True)\n",
        "    return df\n",
        "\n",
        "df = convert_to_numeric(df)\n"
      ]
    },
    {
      "cell_type": "code",
      "execution_count": null,
      "metadata": {
        "colab": {
          "base_uri": "https://localhost:8080/",
          "height": 1000
        },
        "id": "QXsgq_sP7WBE",
        "outputId": "38505ce3-4264-45c4-cde3-ced3965f803b"
      },
      "outputs": [],
      "source": [
        "# Visualisasi korelasi data\n",
        "plt.figure(figsize=(18, 14))\n",
        "sns.heatmap(df.corr(), annot=True, cmap='coolwarm', linewidths=0.5)\n",
        "plt.title('Korelasi antar Variabel')\n",
        "plt.tight_layout()\n",
        "plt.show();"
      ]
    },
    {
      "cell_type": "markdown",
      "metadata": {
        "id": "6WIvyzTy7cN5"
      },
      "source": [
        "# Features Selection"
      ]
    },
    {
      "cell_type": "code",
      "execution_count": null,
      "metadata": {
        "id": "zEW88NvA7Yyt"
      },
      "outputs": [],
      "source": [
        "# Memilih fitur yang akan digunakan - menghilangkan kolom non-numerik dan identifier\n",
        "features = df.columns.drop(['id', 'timestamp'])\n",
        "X = df[features]\n",
        "\n",
        "# Normalisasi data\n",
        "scaler = MinMaxScaler()\n",
        "X_scaled = scaler.fit_transform(X)"
      ]
    },
    {
      "cell_type": "markdown",
      "metadata": {
        "id": "l9jaWBnu7hCz"
      },
      "source": [
        "# Train-test Split"
      ]
    },
    {
      "cell_type": "code",
      "execution_count": null,
      "metadata": {
        "colab": {
          "base_uri": "https://localhost:8080/"
        },
        "id": "P7guBD2Y7dgm",
        "outputId": "509b41a0-5c35-4f6b-fc58-a6f18b985505"
      },
      "outputs": [],
      "source": [
        "X_train, X_val = train_test_split(X_scaled, test_size=0.2, random_state=42)\n",
        "\n",
        "print(f\"Bentuk training set: {X_train.shape}\")\n",
        "print(f\"Bentuk validation set: {X_val.shape}\")"
      ]
    },
    {
      "cell_type": "markdown",
      "metadata": {
        "id": "dDe_LUbb7sT9"
      },
      "source": [
        "# Config"
      ]
    },
    {
      "cell_type": "code",
      "execution_count": null,
      "metadata": {
        "id": "5OuVbntL7jiP"
      },
      "outputs": [],
      "source": [
        "# Mendapatkan dimensi input\n",
        "input_dim = X_train.shape[1]\n",
        "\n",
        "# Parameter model\n",
        "encoding_dim = 10  # Hidden Layer Dimension\n",
        "epochs = 128\n",
        "batch_size = 8"
      ]
    },
    {
      "cell_type": "markdown",
      "metadata": {
        "id": "ysz2-e9_7z9E"
      },
      "source": [
        "# Model - AutoEncoder"
      ]
    },
    {
      "cell_type": "code",
      "execution_count": null,
      "metadata": {
        "colab": {
          "base_uri": "https://localhost:8080/",
          "height": 289
        },
        "id": "eo36v6NE7tJZ",
        "outputId": "6ca5f140-fdd9-4790-f5b2-c1b023f9199a"
      },
      "outputs": [],
      "source": [
        "input_layer = Input(shape=(input_dim,))\n",
        "\n",
        "# Encoder\n",
        "encoder = Dense(32, activation='relu')(input_layer)\n",
        "encoder = Dense(encoding_dim, activation='relu')(encoder)\n",
        "\n",
        "# Decoder\n",
        "decoder = Dense(32, activation='relu')(encoder)\n",
        "decoder = Dense(input_dim, activation='sigmoid')(decoder)\n",
        "\n",
        "# Model AutoEncoder lengkap\n",
        "autoencoder = Model(inputs=input_layer, outputs=decoder)\n",
        "\n",
        "# Kompilasi model\n",
        "autoencoder.compile(optimizer='adam', loss='mse')\n",
        "\n",
        "# Ringkasan model\n",
        "autoencoder.summary()"
      ]
    },
    {
      "cell_type": "markdown",
      "metadata": {
        "id": "huMc5FaQ79e1"
      },
      "source": [
        "# Train the Model"
      ]
    },
    {
      "cell_type": "code",
      "execution_count": null,
      "metadata": {
        "colab": {
          "base_uri": "https://localhost:8080/",
          "height": 1000
        },
        "id": "BiuI71m6767x",
        "outputId": "948c89d9-a73e-4cc5-e10a-24ec8c33469a"
      },
      "outputs": [],
      "source": [
        "early_stopping = EarlyStopping(\n",
        "    monitor='val_loss',\n",
        "    patience=5,\n",
        "    mode='min',\n",
        "    restore_best_weights=True\n",
        ")\n",
        "history = autoencoder.fit(\n",
        "    X_train, X_train,\n",
        "    epochs=epochs,\n",
        "    batch_size=batch_size,\n",
        "    shuffle=True,\n",
        "    validation_data=(X_val, X_val),\n",
        "    callbacks=[early_stopping],\n",
        "    verbose=1\n",
        ")\n",
        "\n",
        "# Plot loss history\n",
        "plt.figure(figsize=(14, 6))\n",
        "plt.plot(history.history['loss'], label='Training Loss')\n",
        "plt.plot(history.history['val_loss'], label='Validation Loss')\n",
        "plt.title('Model Loss')\n",
        "plt.ylabel('Loss')\n",
        "plt.xlabel('Epoch')\n",
        "plt.legend()\n",
        "plt.grid(True)\n",
        "plt.show()"
      ]
    },
    {
      "cell_type": "markdown",
      "metadata": {
        "id": "fbhFi5B_8Rb5"
      },
      "source": [
        "# Predict"
      ]
    },
    {
      "cell_type": "code",
      "execution_count": null,
      "metadata": {
        "colab": {
          "base_uri": "https://localhost:8080/",
          "height": 599
        },
        "id": "Uyi6Ci7A8ET_",
        "outputId": "bda414d6-3570-4283-af18-e7d23ef5776b"
      },
      "outputs": [],
      "source": [
        "X_pred_train = autoencoder.predict(X_train)\n",
        "X_pred_val = autoencoder.predict(X_val)\n",
        "\n",
        "# Menghitung Mean Squared Error (MSE) untuk setiap sampel\n",
        "mse_train = np.mean(np.power(X_train - X_pred_train, 2), axis=1)\n",
        "mse_val = np.mean(np.power(X_val - X_pred_val, 2), axis=1)\n",
        "\n",
        "# Visualisasi MSE\n",
        "plt.figure(figsize=(14, 6))\n",
        "plt.hist(mse_train, bins=50, alpha=0.5, label='Training MSE')\n",
        "plt.hist(mse_val, bins=50, alpha=0.5, label='Validation MSE')\n",
        "plt.axvline(x=np.percentile(mse_train, 95), color='r', linestyle='--', label='Threshold (95th Percentile)')\n",
        "plt.title('Distribution of Reconstruction Error (MSE)')\n",
        "plt.xlabel('Reconstruction MSE')\n",
        "plt.ylabel('Count')\n",
        "plt.legend()\n",
        "plt.grid(True)\n",
        "plt.show()"
      ]
    },
    {
      "cell_type": "markdown",
      "metadata": {
        "id": "MrHhm0OQ8a2w"
      },
      "source": [
        "# Set Threshold and Identify the Anomaly"
      ]
    },
    {
      "cell_type": "code",
      "execution_count": null,
      "metadata": {
        "colab": {
          "base_uri": "https://localhost:8080/"
        },
        "id": "gvQCAAiT8jeG",
        "outputId": "e44173de-6680-44b7-ad34-3630313ab24c"
      },
      "outputs": [],
      "source": [
        "threshold = np.percentile(mse_train, 95)\n",
        "print(f\"Threshold MSE (95th percentile): {threshold:.6f}\")\n",
        "\n",
        "# Menerapkan model ke seluruh dataset\n",
        "X_pred_full = autoencoder.predict(X_scaled)\n",
        "mse_full = np.mean(np.power(X_scaled - X_pred_full, 2), axis=1)\n",
        "\n",
        "# Mengidentifikasi anomali\n",
        "df['reconstruction_error'] = mse_full\n",
        "df['is_anomaly'] = df['reconstruction_error'] > threshold\n",
        "\n",
        "# Menampilkan jumlah anomali yang terdeteksi\n",
        "anomaly_count = df['is_anomaly'].sum()\n",
        "print(f\"Jumlah anomali terdeteksi: {anomaly_count} dari {df.shape[0]} sampel ({(anomaly_count/df.shape[0])*100:.2f}%)\")\n"
      ]
    },
    {
      "cell_type": "markdown",
      "metadata": {
        "id": "P0vQbmrB8mMQ"
      },
      "source": [
        "# Visualize Recontruction Error and Threshold"
      ]
    },
    {
      "cell_type": "code",
      "execution_count": null,
      "metadata": {
        "colab": {
          "base_uri": "https://localhost:8080/",
          "height": 564
        },
        "id": "N9Nh7FJJ8VZw",
        "outputId": "fa639425-43f6-40ad-9199-096ab3998fba"
      },
      "outputs": [],
      "source": [
        "plt.figure(figsize=(14, 6))\n",
        "plt.scatter(range(len(df)), df['reconstruction_error'], c=df['is_anomaly'].map({True: 'red', False: 'blue'}))\n",
        "plt.axhline(y=threshold, color='r', linestyle='--', label=f'Threshold: {threshold:.6f}')\n",
        "plt.title('Reconstruction Error untuk Setiap Sampel')\n",
        "plt.ylabel('Reconstruction Error (MSE)')\n",
        "plt.xlabel('Indeks Sampel')\n",
        "plt.legend(['Normal', 'Anomali', 'Threshold'])\n",
        "plt.grid(True)\n",
        "plt.show()"
      ]
    },
    {
      "cell_type": "code",
      "execution_count": null,
      "metadata": {
        "colab": {
          "base_uri": "https://localhost:8080/",
          "height": 227
        },
        "id": "jyEThotB83gW",
        "outputId": "feb1710d-249c-479b-ae86-9d2da79db209"
      },
      "outputs": [],
      "source": [
        "# Menunjukkan data anomali\n",
        "print(\"\\nData anomali terdeteksi:\")\n",
        "df[df['is_anomaly'] == True][['id', 'timestamp'] + list(features) + ['reconstruction_error']]"
      ]
    },
    {
      "cell_type": "markdown",
      "metadata": {
        "id": "dS_poccm9wGf"
      },
      "source": [
        "# Features Importance"
      ]
    },
    {
      "cell_type": "code",
      "execution_count": null,
      "metadata": {
        "colab": {
          "base_uri": "https://localhost:8080/",
          "height": 747
        },
        "id": "C7GvYdZw9ESf",
        "outputId": "0649dbf1-6a8c-4433-b12d-e16bd501a752"
      },
      "outputs": [],
      "source": [
        "feature_errors = pd.DataFrame()\n",
        "\n",
        "for i, feature in enumerate(features):\n",
        "    feature_errors[feature] = np.power(X_scaled - X_pred_full, 2)[:, i]\n",
        "\n",
        "# Menghitung kontribusi rata-rata setiap fitur terhadap error\n",
        "feature_error_mean = feature_errors.mean().sort_values(ascending=False)\n",
        "\n",
        "# Visualisasi kontribusi fitur terhadap error\n",
        "plt.figure(figsize=(14, 8))\n",
        "sns.barplot(x=feature_error_mean.values, y=feature_error_mean.index)\n",
        "plt.title('Kontribusi Rata-rata Setiap Fitur terhadap Reconstruction Error')\n",
        "plt.xlabel('Mean Squared Error')\n",
        "plt.tight_layout()\n",
        "plt.show()"
      ]
    },
    {
      "cell_type": "markdown",
      "metadata": {
        "id": "Pr40ZSB490Sj"
      },
      "source": [
        "# Save Model"
      ]
    },
    {
      "cell_type": "code",
      "execution_count": null,
      "metadata": {
        "colab": {
          "base_uri": "https://localhost:8080/"
        },
        "id": "ZSqvp_c89LSh",
        "outputId": "ddc131a2-6df8-4591-889a-7ce074da44b8"
      },
      "outputs": [],
      "source": [
        "autoencoder.save('anomaly_autoencoder_model.h5')\n",
        "\n",
        "import joblib\n",
        "joblib.dump(scaler, 'anomaly_scaler.pkl')"
      ]
    },
    {
      "cell_type": "markdown",
      "metadata": {
        "id": "LMtKBMRC98SO"
      },
      "source": [
        "# Main Function\n",
        "Fungsi untuk mendeteksi Anomali pada data baru"
      ]
    },
    {
      "cell_type": "code",
      "execution_count": null,
      "metadata": {
        "id": "Op-saZSz93aX"
      },
      "outputs": [],
      "source": [
        "def detect_anomalies(new_data, model, scaler, threshold):\n",
        "    # Preprocessing\n",
        "    if isinstance(new_data, pd.DataFrame):\n",
        "        if all(feature in new_data.columns for feature in features):\n",
        "            X_new = new_data[features]\n",
        "        else:\n",
        "            raise ValueError(\"Data baru tidak memiliki kolom yang sama dengan data training\")\n",
        "    else:\n",
        "        X_new = new_data\n",
        "\n",
        "    # Normalisasi\n",
        "    X_new_scaled = scaler.transform(X_new)\n",
        "\n",
        "    # Prediksi\n",
        "    X_new_pred = model.predict(X_new_scaled)\n",
        "\n",
        "    # Hitung rekonstruksi error\n",
        "    mse_new = np.mean(np.power(X_new_scaled - X_new_pred, 2), axis=1)\n",
        "\n",
        "    # Tambahkan kolom rekonstruksi error dan flag anomali\n",
        "    if isinstance(new_data, pd.DataFrame):\n",
        "        new_data = new_data.copy()\n",
        "        new_data['reconstruction_error'] = mse_new\n",
        "        new_data['is_anomaly'] = mse_new > threshold\n",
        "\n",
        "    return new_data\n",
        "\n",
        "# EXAMPLE USAGE:\n",
        "# new_df = pd.read_csv('new_data.csv')\n",
        "# results = detect_anomalies(new_df, autoencoder, scaler, threshold)\n",
        "# anomalies = results[results['is_anomaly'] == True]"
      ]
    },
    {
      "cell_type": "code",
      "execution_count": null,
      "metadata": {
        "id": "nh88zrZ8-F0z"
      },
      "outputs": [],
      "source": []
    }
  ],
  "metadata": {
    "accelerator": "GPU",
    "colab": {
      "gpuType": "T4",
      "provenance": []
    },
    "kernelspec": {
      "display_name": "Python 3",
      "name": "python3"
    },
    "language_info": {
      "name": "python"
    }
  },
  "nbformat": 4,
  "nbformat_minor": 0
}
