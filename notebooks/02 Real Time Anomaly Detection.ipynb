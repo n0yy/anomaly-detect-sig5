{
  "cells": [
    {
      "cell_type": "code",
      "execution_count": null,
      "metadata": {
        "id": "PfZb-uQwLAXk"
      },
      "outputs": [],
      "source": [
        "import pandas as pd\n",
        "import numpy as np\n",
        "import matplotlib.pyplot as plt\n",
        "import seaborn as sns\n",
        "import tensorflow as tf\n",
        "from tensorflow.keras.models import load_model\n",
        "import joblib\n",
        "import time\n",
        "from IPython.display import clear_output"
      ]
    },
    {
      "cell_type": "markdown",
      "metadata": {
        "id": "0oXKEVWKLAXn"
      },
      "source": [
        "# Real Time Anomaly Detection\n",
        "Fungsi untuk mendeteksi anomali secara real-time"
      ]
    },
    {
      "cell_type": "code",
      "execution_count": null,
      "metadata": {
        "id": "Iuh06F18LAXp"
      },
      "outputs": [],
      "source": [
        "def real_time_anomaly_detection(model_path, scaler_path, data_path, threshold, interval=5, max_iterations=100):\n",
        "    # Memuat model dan scaler\n",
        "    model = load_model(model_path, compile=False)\n",
        "    scaler = joblib.load(scaler_path)\n",
        "\n",
        "    # Mengidentifikasi fitur yang digunakan model\n",
        "    features = [col for col in pd.read_csv(data_path).columns\n",
        "                if col not in ['id', 'timestamp', 'reconstruction_error', 'is_anomaly']]\n",
        "\n",
        "    # Inisialisasi dataframe untuk melacak anomali\n",
        "    anomaly_tracking = pd.DataFrame(columns=['timestamp', 'anomaly_count', 'total_samples', 'anomaly_percentage'])\n",
        "\n",
        "    # Mulai deteksi anomali real-time\n",
        "    print(\"Memulai deteksi anomali real-time...\")\n",
        "    for i in range(max_iterations):\n",
        "        # Timestamp saat ini\n",
        "        timestamp = time.strftime(\"%Y-%m-%d %H:%M:%S\")\n",
        "\n",
        "        # Memuat data terbaru\n",
        "        df = pd.read_csv(data_path)\n",
        "\n",
        "        # Mendeteksi anomali\n",
        "        X = df[features]\n",
        "        X_scaled = scaler.transform(X)\n",
        "        X_pred = model.predict(X_scaled)\n",
        "        mse = np.mean(np.power(X_scaled - X_pred, 2), axis=1)\n",
        "\n",
        "        # Menambahkan hasil ke dataframe\n",
        "        df['reconstruction_error'] = mse\n",
        "        df['is_anomaly'] = mse > threshold\n",
        "\n",
        "        # Menghitung jumlah anomali dan persentase\n",
        "        anomaly_count = df['is_anomaly'].sum()\n",
        "        total_samples = len(df)\n",
        "        anomaly_percentage = (anomaly_count / total_samples) * 100\n",
        "\n",
        "        # Mencatat statistik anomali\n",
        "        anomaly_tracking = pd.concat([\n",
        "            anomaly_tracking,\n",
        "            pd.DataFrame({\n",
        "                'timestamp': [timestamp],\n",
        "                'anomaly_count': [anomaly_count],\n",
        "                'total_samples': [total_samples],\n",
        "                'anomaly_percentage': [anomaly_percentage]\n",
        "            })\n",
        "        ], ignore_index=True)\n",
        "\n",
        "        # Menampilkan hasil\n",
        "        clear_output(wait=True)\n",
        "        print(f\"Iterasi {i+1}/{max_iterations} - {timestamp}\")\n",
        "        print(f\"Total sampel: {total_samples}\")\n",
        "        print(f\"Anomali terdeteksi: {anomaly_count} ({anomaly_percentage:.2f}%)\")\n",
        "\n",
        "        # Menampilkan sampel anomali terbaru\n",
        "        if anomaly_count > 0:\n",
        "            print(\"\\nSampel anomali terbaru:\")\n",
        "            anomalies = df[df['is_anomaly'] == True].sort_values('reconstruction_error', ascending=False).head(5)\n",
        "            display(anomalies[['id', 'created_date', 'created_time', 'reconstruction_error']])\n",
        "\n",
        "        # Visualisasi tren anomali\n",
        "        plt.figure(figsize=(12, 6))\n",
        "        plt.plot(anomaly_tracking['timestamp'], anomaly_tracking['anomaly_percentage'], marker='o')\n",
        "        plt.title('Tren Persentase Anomali')\n",
        "        plt.xlabel('Waktu')\n",
        "        plt.ylabel('Persentase Anomali (%)')\n",
        "        plt.xticks(rotation=45)\n",
        "        plt.tight_layout()\n",
        "        plt.show()\n",
        "\n",
        "        # Visualisasi distribusi error rekonstruksi\n",
        "        plt.figure(figsize=(12, 6))\n",
        "        sns.histplot(df['reconstruction_error'], bins=30)\n",
        "        plt.axvline(x=threshold, color='r', linestyle='--', label=f'Threshold: {threshold:.6f}')\n",
        "        plt.title('Distribusi Reconstruction Error')\n",
        "        plt.xlabel('Reconstruction Error (MSE)')\n",
        "        plt.ylabel('Jumlah Sampel')\n",
        "        plt.legend()\n",
        "        plt.tight_layout()\n",
        "        plt.show()\n",
        "\n",
        "        # Jika bukan iterasi terakhir, tunggu sebelum iterasi berikutnya\n",
        "        if i < max_iterations - 1:\n",
        "            print(f\"\\nMenunggu {interval} detik untuk pengambilan data berikutnya...\")\n",
        "            time.sleep(interval)\n",
        "\n",
        "    print(\"Deteksi anomali real-time selesai.\")\n",
        "    return anomaly_tracking"
      ]
    },
    {
      "cell_type": "code",
      "execution_count": null,
      "metadata": {
        "colab": {
          "base_uri": "https://localhost:8080/",
          "height": 425
        },
        "id": "QPjJ2LUZLMkm",
        "outputId": "d7978d8d-0bd0-4a08-eb33-7f4543099e0f"
      },
      "outputs": [],
      "source": [
        "anomaly_stats = real_time_anomaly_detection(\n",
        "    model_path='anomaly_autoencoder_model.h5',\n",
        "    scaler_path='anomaly_scaler.pkl',\n",
        "    data_path='tb_sig_5.csv',\n",
        "    threshold=0.01,  # Sesuaikan dengan nilai threshold yang diperoleh dari model\n",
        "    interval=10,\n",
        "    max_iterations=20\n",
        ")"
      ]
    },
    {
      "cell_type": "code",
      "execution_count": null,
      "metadata": {
        "id": "NbihWQm-LZp2"
      },
      "outputs": [],
      "source": []
    }
  ],
  "metadata": {
    "colab": {
      "provenance": []
    },
    "kernelspec": {
      "display_name": "Python 3",
      "language": "python",
      "name": "python3"
    },
    "language_info": {
      "name": "python",
      "version": "3.11.9"
    }
  },
  "nbformat": 4,
  "nbformat_minor": 0
}
